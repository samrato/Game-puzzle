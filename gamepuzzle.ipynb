{
 "cells": [
  {
   "cell_type": "markdown",
   "metadata": {},
   "source": [
    "This is a type of game where the user and the computer will play together .\n",
    "such that the the computer will shuffle words in the list.\n",
    " and the user must give the right guess of the words .\n",
    " in order to win or less the computer will win the game \n",
    " by willington juma.........welcome to the game"
   ]
  },
  {
   "cell_type": "code",
   "execution_count": 1,
   "metadata": {},
   "outputs": [
    {
     "name": "stdout",
     "output_type": "stream",
     "text": [
      "The jumble word is poaS\n",
      "congratulation you have won :A bonus of 10 is yours \n"
     ]
    }
   ],
   "source": [
    "import random\n",
    "list_of_words =[\"father \",\"mother\", \"brother\",\"sister\",\"Pen\",\"Notebook\",\"Water\",\"Headphones\",\"Sunglasses\",\"Laptop\",\"Backpack\",\"Umbrella\",\"Tickets\",\n",
    "\"Wallet\",\"Keys\",\"Phone\",\"Jeans\",\"Sneakers\",\"Toothbrush\",\"Toothpaste\",\"Towel\",\"Shampoo\",\"Soap\",\"Deodorant\",\"Razor\",\"Hairbrush\",\"Watch\",\"Sunglasses\",\n",
    "\"Hat\",\"Jacket\",\"Socks\",\"Underwear\",\"Pillow\",\"Snacks\",\"Notepad\",\"Highlighters\",\"Calculator\",\"Pencil\",\"Flashlight\",\"Sunscreen\",\"Camera\",\"Map\",\"Passport\"\n",
    "]\n",
    "word_list=random.choice(list_of_words)\n",
    "jumbo=''.join(random.sample(word_list,len(word_list)))\n",
    "#analysis of the jumble game  by replacing the words in the list\n",
    "print(f\"The jumble word is {jumbo}\")\n",
    "#analysis of the output\n",
    "gues=input(\"Please can you input your guess ?\")\n",
    "if gues == word_list:\n",
    "    print(\"congratulation you have won :A bonus of 10 is yours \")\n",
    "else:\n",
    "    print(f\"incorrect you have lose :The correct word is  {word_list}\")"
   ]
  }
 ],
 "metadata": {
  "kernelspec": {
   "display_name": "Python 3",
   "language": "python",
   "name": "python3"
  },
  "language_info": {
   "codemirror_mode": {
    "name": "ipython",
    "version": 3
   },
   "file_extension": ".py",
   "mimetype": "text/x-python",
   "name": "python",
   "nbconvert_exporter": "python",
   "pygments_lexer": "ipython3",
   "version": "3.12.0"
  }
 },
 "nbformat": 4,
 "nbformat_minor": 2
}
